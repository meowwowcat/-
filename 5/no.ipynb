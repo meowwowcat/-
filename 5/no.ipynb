{
 "cells": [
  {
   "cell_type": "code",
   "execution_count": null,
   "id": "7b43fda6",
   "metadata": {},
   "outputs": [],
   "source": [
    "import pandas as pd\n",
    "import matplotlib.pyplot as plt\n",
    "import numpy as np\n",
    "\n",
    "filename = \"noise.csv\"\n",
    "\n",
    "df = pd.read_csv(filename,skipfooter=11, usecols=[0,1], names=['times','voltage'])\n",
    "\n",
    "data = df['voltage'].values \n",
    "\n",
    "data_num = len(data)\n",
    "data_min = min(data)\n",
    "data_max = max(data)\n",
    "data_ave = np.average(data)\n",
    "data_sig = np.std(data)\n",
    "data_usig = np.std(data, ddof=1)\n",
    "\n",
    "n, bins, _ = plt.hist(data, bins=10)\n",
    "plt.xlabel('Voltage/V', fontsize=14)\n",
    "plt.ylabel('Counts', fontsize=14)\n",
    "\n",
    "plt.savefig(\"figure/fig2.png\")"
   ]
  }
 ],
 "metadata": {
  "kernelspec": {
   "display_name": "noise",
   "language": "python",
   "name": "python3"
  },
  "language_info": {
   "name": "python",
   "version": "3.9.18"
  }
 },
 "nbformat": 4,
 "nbformat_minor": 5
}
